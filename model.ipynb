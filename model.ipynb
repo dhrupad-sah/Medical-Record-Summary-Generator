{
 "cells": [
  {
   "cell_type": "code",
   "execution_count": 1,
   "id": "initial_id",
   "metadata": {
    "collapsed": true,
    "ExecuteTime": {
     "end_time": "2024-01-08T18:40:43.638321300Z",
     "start_time": "2024-01-08T18:40:43.625987400Z"
    }
   },
   "outputs": [],
   "source": [
    "def remove_duplicate_sentences_in_file(input_file, output_file):\n",
    "    with open(input_file, 'r', encoding='utf-8') as infile:\n",
    "        data = infile.read()\n",
    "\n",
    "    paragraphs = data.split(\"----------------------------------------------------------------------------------------------------\")\n",
    "\n",
    "    unique_paragraphs = []\n",
    "    for paragraph in paragraphs:\n",
    "        paragraph = paragraph.strip()\n",
    "        if paragraph:\n",
    "            sentences = paragraph.split('. ')\n",
    "            unique_sentences = set()\n",
    "            output_sentences = []\n",
    "\n",
    "            for sentence in sentences:\n",
    "                sentence = sentence.strip()\n",
    "                if sentence:\n",
    "                    if sentence not in unique_sentences:\n",
    "                        unique_sentences.add(sentence)\n",
    "                        output_sentences.append(sentence)\n",
    "\n",
    "            unique_paragraph = '. '.join(output_sentences)\n",
    "            unique_paragraphs.append(unique_paragraph)\n",
    "\n",
    "    with open(output_file, 'w', encoding='utf-8') as outfile:\n",
    "        for unique_paragraph in unique_paragraphs:\n",
    "            outfile.write(unique_paragraph + '\\n' + '-'*100 + '\\n')"
   ]
  },
  {
   "cell_type": "code",
   "execution_count": 2,
   "outputs": [],
   "source": [
    "remove_duplicate_sentences_in_file('Medical_Records.txt', 'Filtered.txt')\n"
   ],
   "metadata": {
    "collapsed": false,
    "ExecuteTime": {
     "end_time": "2024-01-08T18:40:45.986719400Z",
     "start_time": "2024-01-08T18:40:45.936578700Z"
    }
   },
   "id": "4384eca4d72c571a"
  },
  {
   "cell_type": "code",
   "execution_count": 1,
   "outputs": [],
   "source": [
    "from transformers import pipeline\n",
    "from transformers import AutoTokenizer, AutoModelForTokenClassification"
   ],
   "metadata": {
    "collapsed": false,
    "ExecuteTime": {
     "end_time": "2024-01-09T06:41:00.714067Z",
     "start_time": "2024-01-09T06:40:50.472432Z"
    }
   },
   "id": "3735008063643623"
  },
  {
   "cell_type": "code",
   "execution_count": 3,
   "outputs": [
    {
     "data": {
      "text/plain": "model.safetensors:   0%|          | 0.00/266M [00:00<?, ?B/s]",
      "application/vnd.jupyter.widget-view+json": {
       "version_major": 2,
       "version_minor": 0,
       "model_id": "e0353231a66148f2ab365c3776b1cd75"
      }
     },
     "metadata": {},
     "output_type": "display_data"
    }
   ],
   "source": [
    "tokenizer = AutoTokenizer.from_pretrained(\"d4data/biomedical-ner-all\")\n",
    "model = AutoModelForTokenClassification.from_pretrained(\"d4data/biomedical-ner-all\")"
   ],
   "metadata": {
    "collapsed": false,
    "ExecuteTime": {
     "end_time": "2024-01-09T06:54:44.404043800Z",
     "start_time": "2024-01-09T06:49:42.647129100Z"
    }
   },
   "id": "29883d234e1889aa"
  },
  {
   "cell_type": "code",
   "execution_count": 4,
   "outputs": [],
   "source": [
    "pipe = pipeline(\"ner\", model=model, tokenizer=tokenizer, aggregation_strategy=\"simple\") "
   ],
   "metadata": {
    "collapsed": false,
    "ExecuteTime": {
     "end_time": "2024-01-09T06:55:22.680117100Z",
     "start_time": "2024-01-09T06:55:22.667003900Z"
    }
   },
   "id": "617b3032426235aa"
  },
  {
   "cell_type": "code",
   "execution_count": 13,
   "outputs": [],
   "source": [
    "import json\n"
   ],
   "metadata": {
    "collapsed": false,
    "ExecuteTime": {
     "end_time": "2024-01-09T07:21:23.618160800Z",
     "start_time": "2024-01-09T07:21:23.605599500Z"
    }
   },
   "id": "bc1512e46a3f061a"
  },
  {
   "cell_type": "code",
   "execution_count": 16,
   "outputs": [],
   "source": [
    "with open('Filtered.txt', 'r') as file:\n",
    "    data_examples = file.read().split('----------------------------------------------------------------------------------------------------')"
   ],
   "metadata": {
    "collapsed": false,
    "ExecuteTime": {
     "end_time": "2024-01-09T07:21:47.813861400Z",
     "start_time": "2024-01-09T07:21:47.804577100Z"
    }
   },
   "id": "42b495c002715dd7"
  },
  {
   "cell_type": "code",
   "execution_count": 30,
   "outputs": [],
   "source": [
    "def filter_entities(output, desired_entity_groups, excluded_symptoms):\n",
    "    return [\n",
    "        entity for entity in output\n",
    "        if entity['entity_group'] in desired_entity_groups and entity['word'].lower() not in excluded_symptoms\n",
    "    ]\n",
    "\n",
    "desired_entity_groups = ['Age', 'Clinical_event', 'Date', 'Sign_symptom', 'Medication']\n",
    "excluded_symptoms = ['di', '##zziness', 'symptoms']\n",
    "\n",
    "def convert_to_text(entities):\n",
    "    text_output = \"\"\n",
    "    for entity in entities:\n",
    "        text_output += f\"{entity['entity_group']}: {entity['word']}\\n\"\n",
    "    return text_output"
   ],
   "metadata": {
    "collapsed": false,
    "ExecuteTime": {
     "end_time": "2024-01-09T07:38:39.670368500Z",
     "start_time": "2024-01-09T07:38:39.658869900Z"
    }
   },
   "id": "91cd81d3a67fa963"
  },
  {
   "cell_type": "code",
   "execution_count": 31,
   "outputs": [],
   "source": [
    "for example in data_examples:\n",
    "    output = pipe(example)\n",
    "    filtered_output = filter_entities(output, desired_entity_groups,excluded_symptoms)\n",
    "\n",
    "    text_output = convert_to_text(filtered_output)\n",
    "\n",
    "    with open('output_text.txt', 'a') as output_file:\n",
    "        output_file.write(text_output + '\\n')"
   ],
   "metadata": {
    "collapsed": false,
    "ExecuteTime": {
     "end_time": "2024-01-09T07:39:05.040576700Z",
     "start_time": "2024-01-09T07:38:42.377752600Z"
    }
   },
   "id": "fba4ae80878e7704"
  },
  {
   "cell_type": "code",
   "execution_count": 22,
   "outputs": [],
   "source": [],
   "metadata": {
    "collapsed": false,
    "ExecuteTime": {
     "end_time": "2024-01-09T07:24:31.042732300Z",
     "start_time": "2024-01-09T07:24:31.030734600Z"
    }
   },
   "id": "62fc74a928328ede"
  },
  {
   "cell_type": "code",
   "execution_count": 9,
   "outputs": [],
   "source": [
    "\n"
   ],
   "metadata": {
    "collapsed": false,
    "ExecuteTime": {
     "end_time": "2024-01-09T07:17:18.882338900Z",
     "start_time": "2024-01-09T07:17:18.868650200Z"
    }
   },
   "id": "8105e6153187f8b1"
  },
  {
   "cell_type": "code",
   "execution_count": 12,
   "outputs": [],
   "source": [],
   "metadata": {
    "collapsed": false,
    "ExecuteTime": {
     "end_time": "2024-01-09T07:18:48.993334300Z",
     "start_time": "2024-01-09T07:18:48.983224500Z"
    }
   },
   "id": "787e6b9ff1ea8ce1"
  },
  {
   "cell_type": "code",
   "execution_count": 22,
   "outputs": [],
   "source": [],
   "metadata": {
    "collapsed": false,
    "ExecuteTime": {
     "end_time": "2024-01-09T07:24:50.361220100Z",
     "start_time": "2024-01-09T07:24:50.342100500Z"
    }
   },
   "id": "259b8824c7c669bf"
  },
  {
   "cell_type": "code",
   "execution_count": 22,
   "outputs": [],
   "source": [],
   "metadata": {
    "collapsed": false,
    "ExecuteTime": {
     "end_time": "2024-01-09T07:24:52.785601900Z",
     "start_time": "2024-01-09T07:24:52.775917600Z"
    }
   },
   "id": "efb4c66762665b2"
  },
  {
   "cell_type": "code",
   "execution_count": null,
   "outputs": [],
   "source": [],
   "metadata": {
    "collapsed": false
   },
   "id": "46a6c6e1a26e90ad"
  }
 ],
 "metadata": {
  "kernelspec": {
   "display_name": "Python 3",
   "language": "python",
   "name": "python3"
  },
  "language_info": {
   "codemirror_mode": {
    "name": "ipython",
    "version": 2
   },
   "file_extension": ".py",
   "mimetype": "text/x-python",
   "name": "python",
   "nbconvert_exporter": "python",
   "pygments_lexer": "ipython2",
   "version": "2.7.6"
  }
 },
 "nbformat": 4,
 "nbformat_minor": 5
}
